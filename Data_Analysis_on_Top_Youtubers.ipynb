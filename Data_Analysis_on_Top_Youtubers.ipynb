{
  "nbformat": 4,
  "nbformat_minor": 0,
  "metadata": {
    "colab": {
      "provenance": [],
      "authorship_tag": "ABX9TyM3O/09Pk96yxX2XPL9gJqe",
      "include_colab_link": true
    },
    "kernelspec": {
      "name": "python3",
      "display_name": "Python 3"
    },
    "language_info": {
      "name": "python"
    }
  },
  "cells": [
    {
      "cell_type": "markdown",
      "metadata": {
        "id": "view-in-github",
        "colab_type": "text"
      },
      "source": [
        "<a href=\"https://colab.research.google.com/github/mukulpalmia07/Youtube_Streamer_Analysis/blob/main/Data_Analysis_on_Top_Youtubers.ipynb\" target=\"_parent\"><img src=\"https://colab.research.google.com/assets/colab-badge.svg\" alt=\"Open In Colab\"/></a>"
      ]
    },
    {
      "cell_type": "markdown",
      "source": [
        "#DATA ANALYSIS ON TOP YOUTUBERS"
      ],
      "metadata": {
        "id": "GA5MpB_wAUAm"
      }
    },
    {
      "cell_type": "markdown",
      "source": [
        "Importing Dependencies"
      ],
      "metadata": {
        "id": "-u2rKycvC6nI"
      }
    },
    {
      "cell_type": "code",
      "source": [
        "import numpy as np\n",
        "import pandas as pd\n",
        "import seaborn as sb\n",
        "import matplotlib.pyplot as plt\n",
        "from sklearn.preprocessing import StandardScaler\n",
        "from sklearn.cluster import KMeans"
      ],
      "metadata": {
        "id": "TKxizU18BcXu"
      },
      "execution_count": 15,
      "outputs": []
    },
    {
      "cell_type": "markdown",
      "source": [
        "Importing the Dataset"
      ],
      "metadata": {
        "id": "y0FD3iBPC-pq"
      }
    },
    {
      "cell_type": "code",
      "source": [
        "youtube_data = pd.read_csv('/content/youtubers_df.csv', encoding = 'ISO-8859-1')"
      ],
      "metadata": {
        "id": "vql6bQYLB2UX"
      },
      "execution_count": 16,
      "outputs": []
    },
    {
      "cell_type": "code",
      "source": [
        "youtube_data.shape"
      ],
      "metadata": {
        "colab": {
          "base_uri": "https://localhost:8080/",
          "height": 0
        },
        "id": "maCgqN80CjYL",
        "outputId": "d2a27d6a-2e75-49d7-bdbd-91fbfaa052bb"
      },
      "execution_count": 17,
      "outputs": [
        {
          "output_type": "execute_result",
          "data": {
            "text/plain": [
              "(1000, 9)"
            ]
          },
          "metadata": {},
          "execution_count": 17
        }
      ]
    },
    {
      "cell_type": "code",
      "source": [
        "youtube_data.head()"
      ],
      "metadata": {
        "colab": {
          "base_uri": "https://localhost:8080/",
          "height": 206
        },
        "id": "YTMq4la5CnOM",
        "outputId": "c9a7a6a5-ce0d-49b4-90c5-1796b70ad6a0"
      },
      "execution_count": 18,
      "outputs": [
        {
          "output_type": "execute_result",
          "data": {
            "text/plain": [
              "   Rank       Username            Categories   Suscribers         Country  \\\n",
              "0     1        tseries       MÃºsica y baile  249500000.0           India   \n",
              "1     2        MrBeast    Videojuegos, Humor  183500000.0  Estados Unidos   \n",
              "2     3      CoComelon            EducaciÃ³n  165500000.0         Unknown   \n",
              "3     4       SETIndia                   NaN  162600000.0           India   \n",
              "4     5  KidsDianaShow  AnimaciÃ³n, Juguetes  113500000.0         Unknown   \n",
              "\n",
              "        Visits      Likes  Comments  \\\n",
              "0      86200.0     2700.0      78.0   \n",
              "1  117400000.0  5300000.0   18500.0   \n",
              "2    7000000.0    24700.0       0.0   \n",
              "3      15600.0      166.0       9.0   \n",
              "4    3900000.0    12400.0       0.0   \n",
              "\n",
              "                                               Links  \n",
              "0  http://youtube.com/channel/UCq-Fj5jknLsUf-MWSy...  \n",
              "1  http://youtube.com/channel/UCX6OQ3DkcsbYNE6H8u...  \n",
              "2  http://youtube.com/channel/UCbCmjCuTUZos6Inko4...  \n",
              "3  http://youtube.com/channel/UCpEhnqL0y41EpW2TvW...  \n",
              "4  http://youtube.com/channel/UCk8GzjMOrta8yxDcKf...  "
            ],
            "text/html": [
              "\n",
              "  <div id=\"df-01e428d8-549e-4503-921f-2676df7f1026\" class=\"colab-df-container\">\n",
              "    <div>\n",
              "<style scoped>\n",
              "    .dataframe tbody tr th:only-of-type {\n",
              "        vertical-align: middle;\n",
              "    }\n",
              "\n",
              "    .dataframe tbody tr th {\n",
              "        vertical-align: top;\n",
              "    }\n",
              "\n",
              "    .dataframe thead th {\n",
              "        text-align: right;\n",
              "    }\n",
              "</style>\n",
              "<table border=\"1\" class=\"dataframe\">\n",
              "  <thead>\n",
              "    <tr style=\"text-align: right;\">\n",
              "      <th></th>\n",
              "      <th>Rank</th>\n",
              "      <th>Username</th>\n",
              "      <th>Categories</th>\n",
              "      <th>Suscribers</th>\n",
              "      <th>Country</th>\n",
              "      <th>Visits</th>\n",
              "      <th>Likes</th>\n",
              "      <th>Comments</th>\n",
              "      <th>Links</th>\n",
              "    </tr>\n",
              "  </thead>\n",
              "  <tbody>\n",
              "    <tr>\n",
              "      <th>0</th>\n",
              "      <td>1</td>\n",
              "      <td>tseries</td>\n",
              "      <td>MÃºsica y baile</td>\n",
              "      <td>249500000.0</td>\n",
              "      <td>India</td>\n",
              "      <td>86200.0</td>\n",
              "      <td>2700.0</td>\n",
              "      <td>78.0</td>\n",
              "      <td>http://youtube.com/channel/UCq-Fj5jknLsUf-MWSy...</td>\n",
              "    </tr>\n",
              "    <tr>\n",
              "      <th>1</th>\n",
              "      <td>2</td>\n",
              "      <td>MrBeast</td>\n",
              "      <td>Videojuegos, Humor</td>\n",
              "      <td>183500000.0</td>\n",
              "      <td>Estados Unidos</td>\n",
              "      <td>117400000.0</td>\n",
              "      <td>5300000.0</td>\n",
              "      <td>18500.0</td>\n",
              "      <td>http://youtube.com/channel/UCX6OQ3DkcsbYNE6H8u...</td>\n",
              "    </tr>\n",
              "    <tr>\n",
              "      <th>2</th>\n",
              "      <td>3</td>\n",
              "      <td>CoComelon</td>\n",
              "      <td>EducaciÃ³n</td>\n",
              "      <td>165500000.0</td>\n",
              "      <td>Unknown</td>\n",
              "      <td>7000000.0</td>\n",
              "      <td>24700.0</td>\n",
              "      <td>0.0</td>\n",
              "      <td>http://youtube.com/channel/UCbCmjCuTUZos6Inko4...</td>\n",
              "    </tr>\n",
              "    <tr>\n",
              "      <th>3</th>\n",
              "      <td>4</td>\n",
              "      <td>SETIndia</td>\n",
              "      <td>NaN</td>\n",
              "      <td>162600000.0</td>\n",
              "      <td>India</td>\n",
              "      <td>15600.0</td>\n",
              "      <td>166.0</td>\n",
              "      <td>9.0</td>\n",
              "      <td>http://youtube.com/channel/UCpEhnqL0y41EpW2TvW...</td>\n",
              "    </tr>\n",
              "    <tr>\n",
              "      <th>4</th>\n",
              "      <td>5</td>\n",
              "      <td>KidsDianaShow</td>\n",
              "      <td>AnimaciÃ³n, Juguetes</td>\n",
              "      <td>113500000.0</td>\n",
              "      <td>Unknown</td>\n",
              "      <td>3900000.0</td>\n",
              "      <td>12400.0</td>\n",
              "      <td>0.0</td>\n",
              "      <td>http://youtube.com/channel/UCk8GzjMOrta8yxDcKf...</td>\n",
              "    </tr>\n",
              "  </tbody>\n",
              "</table>\n",
              "</div>\n",
              "    <div class=\"colab-df-buttons\">\n",
              "\n",
              "  <div class=\"colab-df-container\">\n",
              "    <button class=\"colab-df-convert\" onclick=\"convertToInteractive('df-01e428d8-549e-4503-921f-2676df7f1026')\"\n",
              "            title=\"Convert this dataframe to an interactive table.\"\n",
              "            style=\"display:none;\">\n",
              "\n",
              "  <svg xmlns=\"http://www.w3.org/2000/svg\" height=\"24px\" viewBox=\"0 -960 960 960\">\n",
              "    <path d=\"M120-120v-720h720v720H120Zm60-500h600v-160H180v160Zm220 220h160v-160H400v160Zm0 220h160v-160H400v160ZM180-400h160v-160H180v160Zm440 0h160v-160H620v160ZM180-180h160v-160H180v160Zm440 0h160v-160H620v160Z\"/>\n",
              "  </svg>\n",
              "    </button>\n",
              "\n",
              "  <style>\n",
              "    .colab-df-container {\n",
              "      display:flex;\n",
              "      gap: 12px;\n",
              "    }\n",
              "\n",
              "    .colab-df-convert {\n",
              "      background-color: #E8F0FE;\n",
              "      border: none;\n",
              "      border-radius: 50%;\n",
              "      cursor: pointer;\n",
              "      display: none;\n",
              "      fill: #1967D2;\n",
              "      height: 32px;\n",
              "      padding: 0 0 0 0;\n",
              "      width: 32px;\n",
              "    }\n",
              "\n",
              "    .colab-df-convert:hover {\n",
              "      background-color: #E2EBFA;\n",
              "      box-shadow: 0px 1px 2px rgba(60, 64, 67, 0.3), 0px 1px 3px 1px rgba(60, 64, 67, 0.15);\n",
              "      fill: #174EA6;\n",
              "    }\n",
              "\n",
              "    .colab-df-buttons div {\n",
              "      margin-bottom: 4px;\n",
              "    }\n",
              "\n",
              "    [theme=dark] .colab-df-convert {\n",
              "      background-color: #3B4455;\n",
              "      fill: #D2E3FC;\n",
              "    }\n",
              "\n",
              "    [theme=dark] .colab-df-convert:hover {\n",
              "      background-color: #434B5C;\n",
              "      box-shadow: 0px 1px 3px 1px rgba(0, 0, 0, 0.15);\n",
              "      filter: drop-shadow(0px 1px 2px rgba(0, 0, 0, 0.3));\n",
              "      fill: #FFFFFF;\n",
              "    }\n",
              "  </style>\n",
              "\n",
              "    <script>\n",
              "      const buttonEl =\n",
              "        document.querySelector('#df-01e428d8-549e-4503-921f-2676df7f1026 button.colab-df-convert');\n",
              "      buttonEl.style.display =\n",
              "        google.colab.kernel.accessAllowed ? 'block' : 'none';\n",
              "\n",
              "      async function convertToInteractive(key) {\n",
              "        const element = document.querySelector('#df-01e428d8-549e-4503-921f-2676df7f1026');\n",
              "        const dataTable =\n",
              "          await google.colab.kernel.invokeFunction('convertToInteractive',\n",
              "                                                    [key], {});\n",
              "        if (!dataTable) return;\n",
              "\n",
              "        const docLinkHtml = 'Like what you see? Visit the ' +\n",
              "          '<a target=\"_blank\" href=https://colab.research.google.com/notebooks/data_table.ipynb>data table notebook</a>'\n",
              "          + ' to learn more about interactive tables.';\n",
              "        element.innerHTML = '';\n",
              "        dataTable['output_type'] = 'display_data';\n",
              "        await google.colab.output.renderOutput(dataTable, element);\n",
              "        const docLink = document.createElement('div');\n",
              "        docLink.innerHTML = docLinkHtml;\n",
              "        element.appendChild(docLink);\n",
              "      }\n",
              "    </script>\n",
              "  </div>\n",
              "\n",
              "\n",
              "<div id=\"df-f75c6561-38d5-4169-847d-22e9a4b8abb1\">\n",
              "  <button class=\"colab-df-quickchart\" onclick=\"quickchart('df-f75c6561-38d5-4169-847d-22e9a4b8abb1')\"\n",
              "            title=\"Suggest charts\"\n",
              "            style=\"display:none;\">\n",
              "\n",
              "<svg xmlns=\"http://www.w3.org/2000/svg\" height=\"24px\"viewBox=\"0 0 24 24\"\n",
              "     width=\"24px\">\n",
              "    <g>\n",
              "        <path d=\"M19 3H5c-1.1 0-2 .9-2 2v14c0 1.1.9 2 2 2h14c1.1 0 2-.9 2-2V5c0-1.1-.9-2-2-2zM9 17H7v-7h2v7zm4 0h-2V7h2v10zm4 0h-2v-4h2v4z\"/>\n",
              "    </g>\n",
              "</svg>\n",
              "  </button>\n",
              "\n",
              "<style>\n",
              "  .colab-df-quickchart {\n",
              "      --bg-color: #E8F0FE;\n",
              "      --fill-color: #1967D2;\n",
              "      --hover-bg-color: #E2EBFA;\n",
              "      --hover-fill-color: #174EA6;\n",
              "      --disabled-fill-color: #AAA;\n",
              "      --disabled-bg-color: #DDD;\n",
              "  }\n",
              "\n",
              "  [theme=dark] .colab-df-quickchart {\n",
              "      --bg-color: #3B4455;\n",
              "      --fill-color: #D2E3FC;\n",
              "      --hover-bg-color: #434B5C;\n",
              "      --hover-fill-color: #FFFFFF;\n",
              "      --disabled-bg-color: #3B4455;\n",
              "      --disabled-fill-color: #666;\n",
              "  }\n",
              "\n",
              "  .colab-df-quickchart {\n",
              "    background-color: var(--bg-color);\n",
              "    border: none;\n",
              "    border-radius: 50%;\n",
              "    cursor: pointer;\n",
              "    display: none;\n",
              "    fill: var(--fill-color);\n",
              "    height: 32px;\n",
              "    padding: 0;\n",
              "    width: 32px;\n",
              "  }\n",
              "\n",
              "  .colab-df-quickchart:hover {\n",
              "    background-color: var(--hover-bg-color);\n",
              "    box-shadow: 0 1px 2px rgba(60, 64, 67, 0.3), 0 1px 3px 1px rgba(60, 64, 67, 0.15);\n",
              "    fill: var(--button-hover-fill-color);\n",
              "  }\n",
              "\n",
              "  .colab-df-quickchart-complete:disabled,\n",
              "  .colab-df-quickchart-complete:disabled:hover {\n",
              "    background-color: var(--disabled-bg-color);\n",
              "    fill: var(--disabled-fill-color);\n",
              "    box-shadow: none;\n",
              "  }\n",
              "\n",
              "  .colab-df-spinner {\n",
              "    border: 2px solid var(--fill-color);\n",
              "    border-color: transparent;\n",
              "    border-bottom-color: var(--fill-color);\n",
              "    animation:\n",
              "      spin 1s steps(1) infinite;\n",
              "  }\n",
              "\n",
              "  @keyframes spin {\n",
              "    0% {\n",
              "      border-color: transparent;\n",
              "      border-bottom-color: var(--fill-color);\n",
              "      border-left-color: var(--fill-color);\n",
              "    }\n",
              "    20% {\n",
              "      border-color: transparent;\n",
              "      border-left-color: var(--fill-color);\n",
              "      border-top-color: var(--fill-color);\n",
              "    }\n",
              "    30% {\n",
              "      border-color: transparent;\n",
              "      border-left-color: var(--fill-color);\n",
              "      border-top-color: var(--fill-color);\n",
              "      border-right-color: var(--fill-color);\n",
              "    }\n",
              "    40% {\n",
              "      border-color: transparent;\n",
              "      border-right-color: var(--fill-color);\n",
              "      border-top-color: var(--fill-color);\n",
              "    }\n",
              "    60% {\n",
              "      border-color: transparent;\n",
              "      border-right-color: var(--fill-color);\n",
              "    }\n",
              "    80% {\n",
              "      border-color: transparent;\n",
              "      border-right-color: var(--fill-color);\n",
              "      border-bottom-color: var(--fill-color);\n",
              "    }\n",
              "    90% {\n",
              "      border-color: transparent;\n",
              "      border-bottom-color: var(--fill-color);\n",
              "    }\n",
              "  }\n",
              "</style>\n",
              "\n",
              "  <script>\n",
              "    async function quickchart(key) {\n",
              "      const quickchartButtonEl =\n",
              "        document.querySelector('#' + key + ' button');\n",
              "      quickchartButtonEl.disabled = true;  // To prevent multiple clicks.\n",
              "      quickchartButtonEl.classList.add('colab-df-spinner');\n",
              "      try {\n",
              "        const charts = await google.colab.kernel.invokeFunction(\n",
              "            'suggestCharts', [key], {});\n",
              "      } catch (error) {\n",
              "        console.error('Error during call to suggestCharts:', error);\n",
              "      }\n",
              "      quickchartButtonEl.classList.remove('colab-df-spinner');\n",
              "      quickchartButtonEl.classList.add('colab-df-quickchart-complete');\n",
              "    }\n",
              "    (() => {\n",
              "      let quickchartButtonEl =\n",
              "        document.querySelector('#df-f75c6561-38d5-4169-847d-22e9a4b8abb1 button');\n",
              "      quickchartButtonEl.style.display =\n",
              "        google.colab.kernel.accessAllowed ? 'block' : 'none';\n",
              "    })();\n",
              "  </script>\n",
              "</div>\n",
              "\n",
              "    </div>\n",
              "  </div>\n"
            ]
          },
          "metadata": {},
          "execution_count": 18
        }
      ]
    },
    {
      "cell_type": "markdown",
      "source": [
        "#DATA EXPLORATION AND CLEANING"
      ],
      "metadata": {
        "id": "txQYbdiwCsxE"
      }
    },
    {
      "cell_type": "code",
      "source": [
        "youtube_data.info()"
      ],
      "metadata": {
        "colab": {
          "base_uri": "https://localhost:8080/",
          "height": 0
        },
        "id": "jlK6nHL5CqSR",
        "outputId": "571a71d7-5629-40c3-a36d-cbea348e34a6"
      },
      "execution_count": 19,
      "outputs": [
        {
          "output_type": "stream",
          "name": "stdout",
          "text": [
            "<class 'pandas.core.frame.DataFrame'>\n",
            "RangeIndex: 1000 entries, 0 to 999\n",
            "Data columns (total 9 columns):\n",
            " #   Column      Non-Null Count  Dtype  \n",
            "---  ------      --------------  -----  \n",
            " 0   Rank        1000 non-null   int64  \n",
            " 1   Username    1000 non-null   object \n",
            " 2   Categories  694 non-null    object \n",
            " 3   Suscribers  1000 non-null   float64\n",
            " 4   Country     1000 non-null   object \n",
            " 5   Visits      1000 non-null   float64\n",
            " 6   Likes       1000 non-null   float64\n",
            " 7   Comments    1000 non-null   float64\n",
            " 8   Links       1000 non-null   object \n",
            "dtypes: float64(4), int64(1), object(4)\n",
            "memory usage: 70.4+ KB\n"
          ]
        }
      ]
    },
    {
      "cell_type": "code",
      "source": [
        "youtube_data.columns"
      ],
      "metadata": {
        "colab": {
          "base_uri": "https://localhost:8080/",
          "height": 0
        },
        "id": "M7LaZUX0DGm0",
        "outputId": "4cfa1480-fb77-4552-f9c1-a148968d01b2"
      },
      "execution_count": 20,
      "outputs": [
        {
          "output_type": "execute_result",
          "data": {
            "text/plain": [
              "Index(['Rank', 'Username', 'Categories', 'Suscribers', 'Country', 'Visits',\n",
              "       'Likes', 'Comments', 'Links'],\n",
              "      dtype='object')"
            ]
          },
          "metadata": {},
          "execution_count": 20
        }
      ]
    },
    {
      "cell_type": "code",
      "source": [
        "youtube_data = youtube_data.rename(columns = {'Suscribers': 'Subscribers'})"
      ],
      "metadata": {
        "id": "PkNqEtO0DKYU"
      },
      "execution_count": 21,
      "outputs": []
    },
    {
      "cell_type": "code",
      "source": [
        "youtube_data.columns"
      ],
      "metadata": {
        "colab": {
          "base_uri": "https://localhost:8080/",
          "height": 0
        },
        "id": "URANlPeiDXkJ",
        "outputId": "134ec953-fba0-483a-d901-adec4c7ed41b"
      },
      "execution_count": 22,
      "outputs": [
        {
          "output_type": "execute_result",
          "data": {
            "text/plain": [
              "Index(['Rank', 'Username', 'Categories', 'Subscribers', 'Country', 'Visits',\n",
              "       'Likes', 'Comments', 'Links'],\n",
              "      dtype='object')"
            ]
          },
          "metadata": {},
          "execution_count": 22
        }
      ]
    },
    {
      "cell_type": "code",
      "source": [
        "youtube_data.isnull().sum()"
      ],
      "metadata": {
        "colab": {
          "base_uri": "https://localhost:8080/",
          "height": 0
        },
        "id": "mZTlHZNeDgaN",
        "outputId": "53c299b5-760c-45d4-a15f-c9e8e10523dc"
      },
      "execution_count": 23,
      "outputs": [
        {
          "output_type": "execute_result",
          "data": {
            "text/plain": [
              "Rank             0\n",
              "Username         0\n",
              "Categories     306\n",
              "Subscribers      0\n",
              "Country          0\n",
              "Visits           0\n",
              "Likes            0\n",
              "Comments         0\n",
              "Links            0\n",
              "dtype: int64"
            ]
          },
          "metadata": {},
          "execution_count": 23
        }
      ]
    },
    {
      "cell_type": "code",
      "source": [
        "youtube_data.isnull().sum()"
      ],
      "metadata": {
        "colab": {
          "base_uri": "https://localhost:8080/",
          "height": 0
        },
        "id": "rNIp6l4vDycI",
        "outputId": "a97043d8-ba35-4c49-c20f-239ae9f2f6c5"
      },
      "execution_count": 24,
      "outputs": [
        {
          "output_type": "execute_result",
          "data": {
            "text/plain": [
              "Rank             0\n",
              "Username         0\n",
              "Categories     306\n",
              "Subscribers      0\n",
              "Country          0\n",
              "Visits           0\n",
              "Likes            0\n",
              "Comments         0\n",
              "Links            0\n",
              "dtype: int64"
            ]
          },
          "metadata": {},
          "execution_count": 24
        }
      ]
    },
    {
      "cell_type": "code",
      "source": [
        "youtube_data['Categories'].fillna('Unknown', inplace = True)"
      ],
      "metadata": {
        "id": "UkR2-hyNEPAL"
      },
      "execution_count": 25,
      "outputs": []
    },
    {
      "cell_type": "code",
      "source": [
        "youtube_data.isnull().sum()"
      ],
      "metadata": {
        "colab": {
          "base_uri": "https://localhost:8080/",
          "height": 0
        },
        "id": "PhQ-Qb_aEZHK",
        "outputId": "f0783fb0-cd5f-4cc7-fed1-004ec8f162de"
      },
      "execution_count": 26,
      "outputs": [
        {
          "output_type": "execute_result",
          "data": {
            "text/plain": [
              "Rank           0\n",
              "Username       0\n",
              "Categories     0\n",
              "Subscribers    0\n",
              "Country        0\n",
              "Visits         0\n",
              "Likes          0\n",
              "Comments       0\n",
              "Links          0\n",
              "dtype: int64"
            ]
          },
          "metadata": {},
          "execution_count": 26
        }
      ]
    },
    {
      "cell_type": "markdown",
      "source": [
        "#CHECKING THE OUTLIERS"
      ],
      "metadata": {
        "id": "vAHeolgTEfAi"
      }
    },
    {
      "cell_type": "code",
      "source": [
        "sb.boxplot(y = youtube_data['Subscribers'])\n",
        "plt.show()"
      ],
      "metadata": {
        "colab": {
          "base_uri": "https://localhost:8080/",
          "height": 429
        },
        "id": "sVn6tKyPEc2S",
        "outputId": "8b43a016-ad07-4bf4-8678-a43b439d6b4b"
      },
      "execution_count": 27,
      "outputs": [
        {
          "output_type": "display_data",
          "data": {
            "text/plain": [
              "<Figure size 640x480 with 1 Axes>"
            ],
            "image/png": "[encoded data removed]"
          },
          "metadata": {}
        }
      ]
    },
    {
      "cell_type": "markdown",
      "source": [
        "#REMOVING THE OUTLIERS"
      ],
      "metadata": {
        "id": "fITTLOz5Et84"
      }
    },
    {
      "cell_type": "markdown",
      "source": [
        "Removing the outliers for column"
      ],
      "metadata": {
        "id": "mcZO0-ZqHJGy"
      }
    },
    {
      "cell_type": "code",
      "source": [
        "column1 = 'Subscribers'\n",
        "# Calculating the interquartile range (IQR)\n",
        "q1 = youtube_data[column1].quantile(0.25)\n",
        "q3 = youtube_data[column1].quantile(0.75)\n",
        "IQR = q3 - q1\n",
        "IQR"
      ],
      "metadata": {
        "colab": {
          "base_uri": "https://localhost:8080/",
          "height": 0
        },
        "id": "7RPrjW-lErAg",
        "outputId": "89227aa3-f0d7-4a9d-b7d1-043ea7bc68a2"
      },
      "execution_count": 28,
      "outputs": [
        {
          "output_type": "execute_result",
          "data": {
            "text/plain": [
              "9900000.0"
            ]
          },
          "metadata": {},
          "execution_count": 28
        }
      ]
    },
    {
      "cell_type": "code",
      "source": [
        "# Defining the lower bound and upper bound for the outliers\n",
        "lower_bound = q1 - 1.5 * IQR\n",
        "upper_bound = q3 + 1.5 * IQR"
      ],
      "metadata": {
        "id": "1w4XCSqiFqmR"
      },
      "execution_count": 29,
      "outputs": []
    },
    {
      "cell_type": "code",
      "source": [
        "# Filtering the DataFrame to remove outliers\n",
        "youtube_data_outliers = youtube_data[(youtube_data[column1] >= lower_bound) & (youtube_data[column1] <= upper_bound)]"
      ],
      "metadata": {
        "id": "uTxG-xT7F9re"
      },
      "execution_count": 31,
      "outputs": []
    },
    {
      "cell_type": "code",
      "source": [
        "# Boxplot without outliers\n",
        "sb.boxplot(y = youtube_data_outliers[column1])\n",
        "plt.show()"
      ],
      "metadata": {
        "colab": {
          "base_uri": "https://localhost:8080/",
          "height": 426
        },
        "id": "4gUkNXdGGiCT",
        "outputId": "9521d48d-1e34-417f-ca6f-a62ae79430c6"
      },
      "execution_count": 32,
      "outputs": [
        {
          "output_type": "display_data",
          "data": {
            "text/plain": [
              "<Figure size 640x480 with 1 Axes>"
            ],
            "image/png": "[encoded data removed]"
          },
          "metadata": {}
        }
      ]
    },
    {
      "cell_type": "code",
      "source": [
        "sb.boxplot(y = youtube_data['Visits'])\n",
        "plt.show"
      ],
      "metadata": {
        "colab": {
          "base_uri": "https://localhost:8080/",
          "height": 443
        },
        "id": "xV5FYn31G0eu",
        "outputId": "17209302-0c14-4c9d-fad7-51fe46c6864f"
      },
      "execution_count": 35,
      "outputs": [
        {
          "output_type": "execute_result",
          "data": {
            "text/plain": [
              "<function matplotlib.pyplot.show(close=None, block=None)>"
            ]
          },
          "metadata": {},
          "execution_count": 35
        },
        {
          "output_type": "display_data",
          "data": {
            "text/plain": [
              "<Figure size 640x480 with 1 Axes>"
            ],
            "image/png": "[encoded data removed]"
          },
          "metadata": {}
        }
      ]
    },
    {
      "cell_type": "markdown",
      "source": [
        "Removing the outliers for Visit"
      ],
      "metadata": {
        "id": "3rFa2Q92HOZb"
      }
    },
    {
      "cell_type": "code",
      "source": [
        "column2 = \"Visits\"\n",
        "q1 = youtube_data[column2].quantile(0.25)\n",
        "q3 = youtube_data[column2].quantile(0.75)\n",
        "IQR_visits = q3 - q1\n",
        "IQR_visits"
      ],
      "metadata": {
        "colab": {
          "base_uri": "https://localhost:8080/",
          "height": 0
        },
        "id": "OfVqGPAvG_A2",
        "outputId": "6fbcbf4b-ba27-493f-9e34-c7a6421a69c1"
      },
      "execution_count": 36,
      "outputs": [
        {
          "output_type": "execute_result",
          "data": {
            "text/plain": [
              "833500.0"
            ]
          },
          "metadata": {},
          "execution_count": 36
        }
      ]
    },
    {
      "cell_type": "code",
      "source": [
        "lower_bound = q1 - 1.5 * IQR_visits\n",
        "upper_bound = q3 + 1.5 * IQR_visits"
      ],
      "metadata": {
        "id": "Bp8dc5ymHtdA"
      },
      "execution_count": 37,
      "outputs": []
    },
    {
      "cell_type": "code",
      "source": [
        "youtube_data_outliers = youtube_data[(youtube_data[column2] >= lower_bound) & (youtube_data[column2] <= upper_bound)]"
      ],
      "metadata": {
        "id": "gpCVBc8vH5yM"
      },
      "execution_count": 38,
      "outputs": []
    },
    {
      "cell_type": "code",
      "source": [
        "sb.boxplot(y = youtube_data_outliers[column2])\n",
        "plt.show()"
      ],
      "metadata": {
        "colab": {
          "base_uri": "https://localhost:8080/",
          "height": 426
        },
        "id": "Nk9-g-cHIFUQ",
        "outputId": "e84efe64-a9b1-4523-c637-e2570989ed2b"
      },
      "execution_count": 39,
      "outputs": [
        {
          "output_type": "display_data",
          "data": {
            "text/plain": [
              "<Figure size 640x480 with 1 Axes>"
            ],
            "image/png": "[encoded data removed]"
          },
          "metadata": {}
        }
      ]
    },
    {
      "cell_type": "code",
      "source": [
        "sb.boxplot(y = youtube_data['Likes'])\n",
        "plt.show()"
      ],
      "metadata": {
        "colab": {
          "base_uri": "https://localhost:8080/",
          "height": 426
        },
        "id": "C6A3rynfIMcF",
        "outputId": "51aeafed-1b83-497d-d61a-2c2c9f2b8916"
      },
      "execution_count": 40,
      "outputs": [
        {
          "output_type": "display_data",
          "data": {
            "text/plain": [
              "<Figure size 640x480 with 1 Axes>"
            ],
            "image/png": "[encoded data removed]"
          },
          "metadata": {}
        }
      ]
    },
    {
      "cell_type": "markdown",
      "source": [
        "Removing the outliers for Likes"
      ],
      "metadata": {
        "id": "7leeJ0WnIZcW"
      }
    },
    {
      "cell_type": "code",
      "source": [
        "column3 = 'Likes'\n",
        "q1 = youtube_data[column3].quantile(0.25)\n",
        "q3 = youtube_data[column3].quantile(0.75)\n",
        "IQR_likes = q3 - q1\n",
        "IQR_likes"
      ],
      "metadata": {
        "colab": {
          "base_uri": "https://localhost:8080/",
          "height": 0
        },
        "id": "UMSu21StIW1d",
        "outputId": "e70712cd-588c-4fa2-c5d1-cdf1dd2938a7"
      },
      "execution_count": 41,
      "outputs": [
        {
          "output_type": "execute_result",
          "data": {
            "text/plain": [
              "28178.25"
            ]
          },
          "metadata": {},
          "execution_count": 41
        }
      ]
    },
    {
      "cell_type": "code",
      "source": [
        "lower_bound = q1 - 1.5 * IQR_likes\n",
        "upper_bound = q3 + 1.5 * IQR_likes"
      ],
      "metadata": {
        "id": "RZewu6IdI4LM"
      },
      "execution_count": 42,
      "outputs": []
    },
    {
      "cell_type": "code",
      "source": [
        "youtube_data_outliers = youtube_data[(youtube_data[column3] >= lower_bound) & (youtube_data[column3] <= upper_bound)]"
      ],
      "metadata": {
        "id": "2L_4CM2AJDBg"
      },
      "execution_count": 43,
      "outputs": []
    },
    {
      "cell_type": "code",
      "source": [
        "sb.boxplot(y = youtube_data_outliers[column3])\n",
        "plt.show()"
      ],
      "metadata": {
        "colab": {
          "base_uri": "https://localhost:8080/",
          "height": 411
        },
        "id": "_u0X4GaNJGZa",
        "outputId": "f78c54a1-4388-4fe9-efe5-104671371c61"
      },
      "execution_count": 44,
      "outputs": [
        {
          "output_type": "display_data",
          "data": {
            "text/plain": [
              "<Figure size 640x480 with 1 Axes>"
            ],
            "image/png": "[encoded data removed]"
          },
          "metadata": {}
        }
      ]
    },
    {
      "cell_type": "code",
      "source": [
        "sb.boxplot(y = youtube_data['Comments'])\n",
        "plt.show()"
      ],
      "metadata": {
        "colab": {
          "base_uri": "https://localhost:8080/",
          "height": 413
        },
        "id": "Zp92QRROJNA4",
        "outputId": "7d1e6ba8-9c39-4e42-c4ca-74810fa86ac3"
      },
      "execution_count": 45,
      "outputs": [
        {
          "output_type": "display_data",
          "data": {
            "text/plain": [
              "<Figure size 640x480 with 1 Axes>"
            ],
            "image/png": "[encoded data removed]"
          },
          "metadata": {}
        }
      ]
    },
    {
      "cell_type": "markdown",
      "source": [
        "Removing the outliers for Comments"
      ],
      "metadata": {
        "id": "nz4y9b0AJbsn"
      }
    },
    {
      "cell_type": "code",
      "source": [
        "column4 = 'Comments'\n",
        "q1 = youtube_data[column4].quantile(0.25)\n",
        "q3 = youtube_data[column4].quantile(0.75)\n",
        "IQR_comments = q3 - q1\n",
        "IQR_comments"
      ],
      "metadata": {
        "colab": {
          "base_uri": "https://localhost:8080/",
          "height": 0
        },
        "id": "P-wYLYImJXjg",
        "outputId": "22ed2055-4852-45da-8dd9-3fc21121927e"
      },
      "execution_count": 46,
      "outputs": [
        {
          "output_type": "execute_result",
          "data": {
            "text/plain": [
              "470.0"
            ]
          },
          "metadata": {},
          "execution_count": 46
        }
      ]
    },
    {
      "cell_type": "code",
      "source": [
        "lower_bound = q1 - 1.5 * IQR_comments\n",
        "upper_bound = q3 + 1.5 * IQR_comments"
      ],
      "metadata": {
        "id": "0u1XevPMJw_4"
      },
      "execution_count": 47,
      "outputs": []
    },
    {
      "cell_type": "code",
      "source": [
        "youtube_data_outliers = youtube_data[(youtube_data[column4] >= lower_bound) & (youtube_data[column4] <= upper_bound)]"
      ],
      "metadata": {
        "id": "2PF9MrgnJ8qZ"
      },
      "execution_count": 48,
      "outputs": []
    },
    {
      "cell_type": "code",
      "source": [
        "sb.boxplot(y = youtube_data_outliers[column4])\n",
        "plt.show()"
      ],
      "metadata": {
        "colab": {
          "base_uri": "https://localhost:8080/",
          "height": 411
        },
        "id": "jzXrd0slKA4T",
        "outputId": "3316f50f-7b3d-418a-b45b-27954cb4370b"
      },
      "execution_count": 51,
      "outputs": [
        {
          "output_type": "display_data",
          "data": {
            "text/plain": [
              "<Figure size 640x480 with 1 Axes>"
            ],
            "image/png": "[encoded data removed]"
          },
          "metadata": {}
        }
      ]
    },
    {
      "cell_type": "markdown",
      "source": [
        "#PERFORMANCE METRICS"
      ],
      "metadata": {
        "id": "BjrHrqpCKMoP"
      }
    },
    {
      "cell_type": "code",
      "source": [
        "average_metrics = youtube_data[['Subscribers', 'Visits', 'Likes', 'Comments']].mean()\n",
        "average_metrics.plot(kind = 'bar')\n",
        "plt.show()"
      ],
      "metadata": {
        "colab": {
          "base_uri": "https://localhost:8080/",
          "height": 512
        },
        "id": "-TazpREJKHTo",
        "outputId": "7b551182-9ff6-4b30-e89c-71f61c32bc24"
      },
      "execution_count": 52,
      "outputs": [
        {
          "output_type": "display_data",
          "data": {
            "text/plain": [
              "<Figure size 640x480 with 1 Axes>"
            ],
            "image/png": "[encoded data removed]"
          },
          "metadata": {}
        }
      ]
    },
    {
      "cell_type": "markdown",
      "source": [
        "#CONTENT CATEGORIES"
      ],
      "metadata": {
        "id": "fwIvSnt_K_y7"
      }
    },
    {
      "cell_type": "code",
      "source": [
        "category_distribution = youtube_data['Categories'].value_counts()\n",
        "print(category_distribution)"
      ],
      "metadata": {
        "colab": {
          "base_uri": "https://localhost:8080/",
          "height": 0
        },
        "id": "FztIjDV_KwPS",
        "outputId": "f5544bb1-ee53-40e6-86f8-05fcfceeaf1e"
      },
      "execution_count": 54,
      "outputs": [
        {
          "output_type": "stream",
          "name": "stdout",
          "text": [
            "Unknown                               306\n",
            "MÃºsica y baile                       160\n",
            "PelÃ­culas, AnimaciÃ³n                 61\n",
            "MÃºsica y baile, PelÃ­culas            41\n",
            "Vlogs diarios                          37\n",
            "Noticias y PolÃ­tica                   36\n",
            "PelÃ­culas, Humor                      34\n",
            "AnimaciÃ³n, Videojuegos                34\n",
            "AnimaciÃ³n, Juguetes                   29\n",
            "AnimaciÃ³n, Humor                      27\n",
            "PelÃ­culas                             24\n",
            "EducaciÃ³n                             24\n",
            "AnimaciÃ³n                             22\n",
            "Videojuegos                            19\n",
            "Videojuegos, Humor                     17\n",
            "MÃºsica y baile, AnimaciÃ³n            16\n",
            "Ciencia y tecnologÃ­a                  14\n",
            "Comida y bebida                        12\n",
            "Humor                                  10\n",
            "Juguetes                               10\n",
            "PelÃ­culas, Juguetes                    9\n",
            "PelÃ­culas, Videojuegos                 8\n",
            "Deportes                                8\n",
            "MÃºsica y baile, Humor                  6\n",
            "Juguetes, Coches y vehÃ­culos           4\n",
            "DIY y Life Hacks                        3\n",
            "Fitness, Salud y autoayuda              3\n",
            "Videojuegos, Juguetes                   3\n",
            "Animales y mascotas                     2\n",
            "Moda                                    2\n",
            "Coches y vehÃ­culos                     2\n",
            "EducaciÃ³n, Juguetes                    2\n",
            "Fitness                                 2\n",
            "Comida y bebida, Juguetes               1\n",
            "ASMR, Comida y bebida                   1\n",
            "AnimaciÃ³n, Humor, Juguetes             1\n",
            "DiseÃ±o/arte, Belleza                   1\n",
            "Belleza, Moda                           1\n",
            "ASMR                                    1\n",
            "MÃºsica y baile, Juguetes               1\n",
            "DiseÃ±o/arte, DIY y Life Hacks          1\n",
            "DIY y Life Hacks, Juguetes              1\n",
            "DiseÃ±o/arte                            1\n",
            "Comida y bebida, Salud y autoayuda      1\n",
            "Viajes, EspectÃ¡culos                   1\n",
            "Juguetes, DIY y Life Hacks              1\n",
            "Name: Categories, dtype: int64\n"
          ]
        }
      ]
    },
    {
      "cell_type": "markdown",
      "source": [
        "#PERFORMING KMEANS CLUSTERING\n",
        "\n",
        "To ensure that the values have a mean 0 and standard deviation 1"
      ],
      "metadata": {
        "id": "I9HCGZfAMJRw"
      }
    },
    {
      "cell_type": "code",
      "source": [
        "scaler = StandardScaler()\n",
        "scaled_metric = scaler.fit_transform(youtube_data[['Subscribers', 'Visits', 'Likes', 'Comments']])\n",
        "kmeans = KMeans(n_clusters = 2)\n",
        "youtube_data['cluster'] = kmeans.fit_predict(scaled_metric)"
      ],
      "metadata": {
        "colab": {
          "base_uri": "https://localhost:8080/",
          "height": 0
        },
        "id": "Gg4Ica1NLUkn",
        "outputId": "6c53a672-6aff-4c2f-d83e-6f33b1de934d"
      },
      "execution_count": 55,
      "outputs": [
        {
          "output_type": "stream",
          "name": "stderr",
          "text": [
            "/usr/local/lib/python3.10/dist-packages/sklearn/cluster/_kmeans.py:870: FutureWarning: The default value of `n_init` will change from 10 to 'auto' in 1.4. Set the value of `n_init` explicitly to suppress the warning\n",
            "  warnings.warn(\n"
          ]
        }
      ]
    },
    {
      "cell_type": "markdown",
      "source": [
        "Top performing content creator"
      ],
      "metadata": {
        "id": "ywPOtd0HNIOK"
      }
    },
    {
      "cell_type": "code",
      "source": [
        "performer = youtube_data[youtube_data['cluster'] == 1]\n",
        "performer"
      ],
      "metadata": {
        "colab": {
          "base_uri": "https://localhost:8080/",
          "height": 125
        },
        "id": "r3J9uiT2NC71",
        "outputId": "fe9c9cef-50f6-4791-e1b4-04785855d241"
      },
      "execution_count": 56,
      "outputs": [
        {
          "output_type": "execute_result",
          "data": {
            "text/plain": [
              "     Rank  Username          Categories  Subscribers         Country  \\\n",
              "1       2   MrBeast  Videojuegos, Humor  183500000.0  Estados Unidos   \n",
              "136   137  MrBeast2       Vlogs diarios   31300000.0  Estados Unidos   \n",
              "\n",
              "          Visits      Likes  Comments  \\\n",
              "1    117400000.0  5300000.0   18500.0   \n",
              "136   83100000.0  5000000.0   11600.0   \n",
              "\n",
              "                                                 Links  cluster  \n",
              "1    http://youtube.com/channel/UCX6OQ3DkcsbYNE6H8u...        1  \n",
              "136  http://youtube.com/channel/UC4-79UOlP48-QNGgCk...        1  "
            ],
            "text/html": [
              "\n",
              "  <div id=\"df-9283685a-bb7c-47bf-856b-b24f226eeffa\" class=\"colab-df-container\">\n",
              "    <div>\n",
              "<style scoped>\n",
              "    .dataframe tbody tr th:only-of-type {\n",
              "        vertical-align: middle;\n",
              "    }\n",
              "\n",
              "    .dataframe tbody tr th {\n",
              "        vertical-align: top;\n",
              "    }\n",
              "\n",
              "    .dataframe thead th {\n",
              "        text-align: right;\n",
              "    }\n",
              "</style>\n",
              "<table border=\"1\" class=\"dataframe\">\n",
              "  <thead>\n",
              "    <tr style=\"text-align: right;\">\n",
              "      <th></th>\n",
              "      <th>Rank</th>\n",
              "      <th>Username</th>\n",
              "      <th>Categories</th>\n",
              "      <th>Subscribers</th>\n",
              "      <th>Country</th>\n",
              "      <th>Visits</th>\n",
              "      <th>Likes</th>\n",
              "      <th>Comments</th>\n",
              "      <th>Links</th>\n",
              "      <th>cluster</th>\n",
              "    </tr>\n",
              "  </thead>\n",
              "  <tbody>\n",
              "    <tr>\n",
              "      <th>1</th>\n",
              "      <td>2</td>\n",
              "      <td>MrBeast</td>\n",
              "      <td>Videojuegos, Humor</td>\n",
              "      <td>183500000.0</td>\n",
              "      <td>Estados Unidos</td>\n",
              "      <td>117400000.0</td>\n",
              "      <td>5300000.0</td>\n",
              "      <td>18500.0</td>\n",
              "      <td>http://youtube.com/channel/UCX6OQ3DkcsbYNE6H8u...</td>\n",
              "      <td>1</td>\n",
              "    </tr>\n",
              "    <tr>\n",
              "      <th>136</th>\n",
              "      <td>137</td>\n",
              "      <td>MrBeast2</td>\n",
              "      <td>Vlogs diarios</td>\n",
              "      <td>31300000.0</td>\n",
              "      <td>Estados Unidos</td>\n",
              "      <td>83100000.0</td>\n",
              "      <td>5000000.0</td>\n",
              "      <td>11600.0</td>\n",
              "      <td>http://youtube.com/channel/UC4-79UOlP48-QNGgCk...</td>\n",
              "      <td>1</td>\n",
              "    </tr>\n",
              "  </tbody>\n",
              "</table>\n",
              "</div>\n",
              "    <div class=\"colab-df-buttons\">\n",
              "\n",
              "  <div class=\"colab-df-container\">\n",
              "    <button class=\"colab-df-convert\" onclick=\"convertToInteractive('df-9283685a-bb7c-47bf-856b-b24f226eeffa')\"\n",
              "            title=\"Convert this dataframe to an interactive table.\"\n",
              "            style=\"display:none;\">\n",
              "\n",
              "  <svg xmlns=\"http://www.w3.org/2000/svg\" height=\"24px\" viewBox=\"0 -960 960 960\">\n",
              "    <path d=\"M120-120v-720h720v720H120Zm60-500h600v-160H180v160Zm220 220h160v-160H400v160Zm0 220h160v-160H400v160ZM180-400h160v-160H180v160Zm440 0h160v-160H620v160ZM180-180h160v-160H180v160Zm440 0h160v-160H620v160Z\"/>\n",
              "  </svg>\n",
              "    </button>\n",
              "\n",
              "  <style>\n",
              "    .colab-df-container {\n",
              "      display:flex;\n",
              "      gap: 12px;\n",
              "    }\n",
              "\n",
              "    .colab-df-convert {\n",
              "      background-color: #E8F0FE;\n",
              "      border: none;\n",
              "      border-radius: 50%;\n",
              "      cursor: pointer;\n",
              "      display: none;\n",
              "      fill: #1967D2;\n",
              "      height: 32px;\n",
              "      padding: 0 0 0 0;\n",
              "      width: 32px;\n",
              "    }\n",
              "\n",
              "    .colab-df-convert:hover {\n",
              "      background-color: #E2EBFA;\n",
              "      box-shadow: 0px 1px 2px rgba(60, 64, 67, 0.3), 0px 1px 3px 1px rgba(60, 64, 67, 0.15);\n",
              "      fill: #174EA6;\n",
              "    }\n",
              "\n",
              "    .colab-df-buttons div {\n",
              "      margin-bottom: 4px;\n",
              "    }\n",
              "\n",
              "    [theme=dark] .colab-df-convert {\n",
              "      background-color: #3B4455;\n",
              "      fill: #D2E3FC;\n",
              "    }\n",
              "\n",
              "    [theme=dark] .colab-df-convert:hover {\n",
              "      background-color: #434B5C;\n",
              "      box-shadow: 0px 1px 3px 1px rgba(0, 0, 0, 0.15);\n",
              "      filter: drop-shadow(0px 1px 2px rgba(0, 0, 0, 0.3));\n",
              "      fill: #FFFFFF;\n",
              "    }\n",
              "  </style>\n",
              "\n",
              "    <script>\n",
              "      const buttonEl =\n",
              "        document.querySelector('#df-9283685a-bb7c-47bf-856b-b24f226eeffa button.colab-df-convert');\n",
              "      buttonEl.style.display =\n",
              "        google.colab.kernel.accessAllowed ? 'block' : 'none';\n",
              "\n",
              "      async function convertToInteractive(key) {\n",
              "        const element = document.querySelector('#df-9283685a-bb7c-47bf-856b-b24f226eeffa');\n",
              "        const dataTable =\n",
              "          await google.colab.kernel.invokeFunction('convertToInteractive',\n",
              "                                                    [key], {});\n",
              "        if (!dataTable) return;\n",
              "\n",
              "        const docLinkHtml = 'Like what you see? Visit the ' +\n",
              "          '<a target=\"_blank\" href=https://colab.research.google.com/notebooks/data_table.ipynb>data table notebook</a>'\n",
              "          + ' to learn more about interactive tables.';\n",
              "        element.innerHTML = '';\n",
              "        dataTable['output_type'] = 'display_data';\n",
              "        await google.colab.output.renderOutput(dataTable, element);\n",
              "        const docLink = document.createElement('div');\n",
              "        docLink.innerHTML = docLinkHtml;\n",
              "        element.appendChild(docLink);\n",
              "      }\n",
              "    </script>\n",
              "  </div>\n",
              "\n",
              "\n",
              "<div id=\"df-4db6e3e8-0a1b-47d3-ab7b-29337e1a2c11\">\n",
              "  <button class=\"colab-df-quickchart\" onclick=\"quickchart('df-4db6e3e8-0a1b-47d3-ab7b-29337e1a2c11')\"\n",
              "            title=\"Suggest charts\"\n",
              "            style=\"display:none;\">\n",
              "\n",
              "<svg xmlns=\"http://www.w3.org/2000/svg\" height=\"24px\"viewBox=\"0 0 24 24\"\n",
              "     width=\"24px\">\n",
              "    <g>\n",
              "        <path d=\"M19 3H5c-1.1 0-2 .9-2 2v14c0 1.1.9 2 2 2h14c1.1 0 2-.9 2-2V5c0-1.1-.9-2-2-2zM9 17H7v-7h2v7zm4 0h-2V7h2v10zm4 0h-2v-4h2v4z\"/>\n",
              "    </g>\n",
              "</svg>\n",
              "  </button>\n",
              "\n",
              "<style>\n",
              "  .colab-df-quickchart {\n",
              "      --bg-color: #E8F0FE;\n",
              "      --fill-color: #1967D2;\n",
              "      --hover-bg-color: #E2EBFA;\n",
              "      --hover-fill-color: #174EA6;\n",
              "      --disabled-fill-color: #AAA;\n",
              "      --disabled-bg-color: #DDD;\n",
              "  }\n",
              "\n",
              "  [theme=dark] .colab-df-quickchart {\n",
              "      --bg-color: #3B4455;\n",
              "      --fill-color: #D2E3FC;\n",
              "      --hover-bg-color: #434B5C;\n",
              "      --hover-fill-color: #FFFFFF;\n",
              "      --disabled-bg-color: #3B4455;\n",
              "      --disabled-fill-color: #666;\n",
              "  }\n",
              "\n",
              "  .colab-df-quickchart {\n",
              "    background-color: var(--bg-color);\n",
              "    border: none;\n",
              "    border-radius: 50%;\n",
              "    cursor: pointer;\n",
              "    display: none;\n",
              "    fill: var(--fill-color);\n",
              "    height: 32px;\n",
              "    padding: 0;\n",
              "    width: 32px;\n",
              "  }\n",
              "\n",
              "  .colab-df-quickchart:hover {\n",
              "    background-color: var(--hover-bg-color);\n",
              "    box-shadow: 0 1px 2px rgba(60, 64, 67, 0.3), 0 1px 3px 1px rgba(60, 64, 67, 0.15);\n",
              "    fill: var(--button-hover-fill-color);\n",
              "  }\n",
              "\n",
              "  .colab-df-quickchart-complete:disabled,\n",
              "  .colab-df-quickchart-complete:disabled:hover {\n",
              "    background-color: var(--disabled-bg-color);\n",
              "    fill: var(--disabled-fill-color);\n",
              "    box-shadow: none;\n",
              "  }\n",
              "\n",
              "  .colab-df-spinner {\n",
              "    border: 2px solid var(--fill-color);\n",
              "    border-color: transparent;\n",
              "    border-bottom-color: var(--fill-color);\n",
              "    animation:\n",
              "      spin 1s steps(1) infinite;\n",
              "  }\n",
              "\n",
              "  @keyframes spin {\n",
              "    0% {\n",
              "      border-color: transparent;\n",
              "      border-bottom-color: var(--fill-color);\n",
              "      border-left-color: var(--fill-color);\n",
              "    }\n",
              "    20% {\n",
              "      border-color: transparent;\n",
              "      border-left-color: var(--fill-color);\n",
              "      border-top-color: var(--fill-color);\n",
              "    }\n",
              "    30% {\n",
              "      border-color: transparent;\n",
              "      border-left-color: var(--fill-color);\n",
              "      border-top-color: var(--fill-color);\n",
              "      border-right-color: var(--fill-color);\n",
              "    }\n",
              "    40% {\n",
              "      border-color: transparent;\n",
              "      border-right-color: var(--fill-color);\n",
              "      border-top-color: var(--fill-color);\n",
              "    }\n",
              "    60% {\n",
              "      border-color: transparent;\n",
              "      border-right-color: var(--fill-color);\n",
              "    }\n",
              "    80% {\n",
              "      border-color: transparent;\n",
              "      border-right-color: var(--fill-color);\n",
              "      border-bottom-color: var(--fill-color);\n",
              "    }\n",
              "    90% {\n",
              "      border-color: transparent;\n",
              "      border-bottom-color: var(--fill-color);\n",
              "    }\n",
              "  }\n",
              "</style>\n",
              "\n",
              "  <script>\n",
              "    async function quickchart(key) {\n",
              "      const quickchartButtonEl =\n",
              "        document.querySelector('#' + key + ' button');\n",
              "      quickchartButtonEl.disabled = true;  // To prevent multiple clicks.\n",
              "      quickchartButtonEl.classList.add('colab-df-spinner');\n",
              "      try {\n",
              "        const charts = await google.colab.kernel.invokeFunction(\n",
              "            'suggestCharts', [key], {});\n",
              "      } catch (error) {\n",
              "        console.error('Error during call to suggestCharts:', error);\n",
              "      }\n",
              "      quickchartButtonEl.classList.remove('colab-df-spinner');\n",
              "      quickchartButtonEl.classList.add('colab-df-quickchart-complete');\n",
              "    }\n",
              "    (() => {\n",
              "      let quickchartButtonEl =\n",
              "        document.querySelector('#df-4db6e3e8-0a1b-47d3-ab7b-29337e1a2c11 button');\n",
              "      quickchartButtonEl.style.display =\n",
              "        google.colab.kernel.accessAllowed ? 'block' : 'none';\n",
              "    })();\n",
              "  </script>\n",
              "</div>\n",
              "\n",
              "  <div id=\"id_0ebe83c5-503e-4d44-9b12-4b24239ff6e9\">\n",
              "    <style>\n",
              "      .colab-df-generate {\n",
              "        background-color: #E8F0FE;\n",
              "        border: none;\n",
              "        border-radius: 50%;\n",
              "        cursor: pointer;\n",
              "        display: none;\n",
              "        fill: #1967D2;\n",
              "        height: 32px;\n",
              "        padding: 0 0 0 0;\n",
              "        width: 32px;\n",
              "      }\n",
              "\n",
              "      .colab-df-generate:hover {\n",
              "        background-color: #E2EBFA;\n",
              "        box-shadow: 0px 1px 2px rgba(60, 64, 67, 0.3), 0px 1px 3px 1px rgba(60, 64, 67, 0.15);\n",
              "        fill: #174EA6;\n",
              "      }\n",
              "\n",
              "      [theme=dark] .colab-df-generate {\n",
              "        background-color: #3B4455;\n",
              "        fill: #D2E3FC;\n",
              "      }\n",
              "\n",
              "      [theme=dark] .colab-df-generate:hover {\n",
              "        background-color: #434B5C;\n",
              "        box-shadow: 0px 1px 3px 1px rgba(0, 0, 0, 0.15);\n",
              "        filter: drop-shadow(0px 1px 2px rgba(0, 0, 0, 0.3));\n",
              "        fill: #FFFFFF;\n",
              "      }\n",
              "    </style>\n",
              "    <button class=\"colab-df-generate\" onclick=\"generateWithVariable('performer')\"\n",
              "            title=\"Generate code using this dataframe.\"\n",
              "            style=\"display:none;\">\n",
              "\n",
              "  <svg xmlns=\"http://www.w3.org/2000/svg\" height=\"24px\"viewBox=\"0 0 24 24\"\n",
              "       width=\"24px\">\n",
              "    <path d=\"M7,19H8.4L18.45,9,17,7.55,7,17.6ZM5,21V16.75L18.45,3.32a2,2,0,0,1,2.83,0l1.4,1.43a1.91,1.91,0,0,1,.58,1.4,1.91,1.91,0,0,1-.58,1.4L9.25,21ZM18.45,9,17,7.55Zm-12,3A5.31,5.31,0,0,0,4.9,8.1,5.31,5.31,0,0,0,1,6.5,5.31,5.31,0,0,0,4.9,4.9,5.31,5.31,0,0,0,6.5,1,5.31,5.31,0,0,0,8.1,4.9,5.31,5.31,0,0,0,12,6.5,5.46,5.46,0,0,0,6.5,12Z\"/>\n",
              "  </svg>\n",
              "    </button>\n",
              "    <script>\n",
              "      (() => {\n",
              "      const buttonEl =\n",
              "        document.querySelector('#id_0ebe83c5-503e-4d44-9b12-4b24239ff6e9 button.colab-df-generate');\n",
              "      buttonEl.style.display =\n",
              "        google.colab.kernel.accessAllowed ? 'block' : 'none';\n",
              "\n",
              "      buttonEl.onclick = () => {\n",
              "        google.colab.notebook.generateWithVariable('performer');\n",
              "      }\n",
              "      })();\n",
              "    </script>\n",
              "  </div>\n",
              "\n",
              "    </div>\n",
              "  </div>\n"
            ]
          },
          "metadata": {},
          "execution_count": 56
        }
      ]
    },
    {
      "cell_type": "markdown",
      "source": [
        "#DATAFRAME SHAPE\n",
        "\n",
        "Before removing outliers"
      ],
      "metadata": {
        "id": "OwY1h_krNnzR"
      }
    },
    {
      "cell_type": "code",
      "source": [
        "youtube_data.shape"
      ],
      "metadata": {
        "colab": {
          "base_uri": "https://localhost:8080/",
          "height": 0
        },
        "id": "8I0HrSYZNU82",
        "outputId": "58af247c-38d3-440d-c92e-f2f685c8d3c4"
      },
      "execution_count": 57,
      "outputs": [
        {
          "output_type": "execute_result",
          "data": {
            "text/plain": [
              "(1000, 10)"
            ]
          },
          "metadata": {},
          "execution_count": 57
        }
      ]
    },
    {
      "cell_type": "markdown",
      "source": [
        "After removing outliers"
      ],
      "metadata": {
        "id": "d6hLoIL8N2XM"
      }
    },
    {
      "cell_type": "code",
      "source": [
        "youtube_data_outliers.shape"
      ],
      "metadata": {
        "colab": {
          "base_uri": "https://localhost:8080/",
          "height": 0
        },
        "id": "dx0tYqrfNyUv",
        "outputId": "ec46da8a-2d7d-4624-e1b4-419432cbea47"
      },
      "execution_count": 58,
      "outputs": [
        {
          "output_type": "execute_result",
          "data": {
            "text/plain": [
              "(849, 9)"
            ]
          },
          "metadata": {},
          "execution_count": 58
        }
      ]
    },
    {
      "cell_type": "markdown",
      "source": [
        "#CONCLUSION\n",
        "\n",
        "\n",
        "\n",
        "* The analysis provided valuable insights into the top YouTube streamers.\n",
        "* Missing values were handled, outliers were removed, and K-Means clustering was applied to identify potential high-performing creators.\n",
        "* The overall goal was to refine the dataset and improve the accuracy of subsequent analyses.\n",
        "\n",
        "In summary, the analysis helps in understanding the characteristics of top YouTubers, identifying outliers, and clustering them based on performance metrics. The results can be further utilized for strategic decision-making in the context of content creation and audience engagement."
      ],
      "metadata": {
        "id": "8m8xjBeEN83B"
      }
    },
    {
      "cell_type": "code",
      "source": [],
      "metadata": {
        "id": "FuZLxmxNOk3r"
      },
      "execution_count": null,
      "outputs": []
    }
  ]
}